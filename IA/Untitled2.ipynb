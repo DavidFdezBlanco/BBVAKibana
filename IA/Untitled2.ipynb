{
 "cells": [
  {
   "cell_type": "code",
   "execution_count": 6,
   "metadata": {},
   "outputs": [
    {
     "name": "stdout",
     "output_type": "stream",
     "text": [
      "[nltk_data] Downloading package stopwords to\n",
      "[nltk_data]     /home/ahuangfeng/nltk_data...\n",
      "[nltk_data]   Package stopwords is already up-to-date!\n"
     ]
    },
    {
     "data": {
      "text/plain": [
       "True"
      ]
     },
     "execution_count": 6,
     "metadata": {},
     "output_type": "execute_result"
    }
   ],
   "source": [
    "from sklearn.feature_extraction.text import TfidfVectorizer\n",
    "from sklearn.cluster import KMeans\n",
    "from nltk.corpus import stopwords\n",
    "import numpy as np\n",
    "import pandas as pd\n",
    "import nltk\n",
    "from nltk.corpus import stopwords\n",
    "import string\n",
    "from sklearn.feature_extraction.text import CountVectorizer\n",
    "import nltk\n",
    "from nltk.corpus import stopwords\n",
    "from nltk.stem.snowball import SnowballStemmer\n",
    "import re\n",
    "import sys\n",
    "import warnings\n",
    "from scipy.sparse import csr_matrix, lil_matrix\n",
    "from sklearn.linear_model import LogisticRegression\n",
    "from sklearn.pipeline import Pipeline\n",
    "from sklearn.metrics import accuracy_score\n",
    "from sklearn.multiclass import OneVsRestClassifier\n",
    "from sklearn.model_selection import train_test_split\n",
    "import seaborn as sns\n",
    "import pickle\n",
    "\n",
    "nltk.download('stopwords')\n"
   ]
  },
  {
   "cell_type": "code",
   "execution_count": 23,
   "metadata": {},
   "outputs": [
    {
     "name": "stdout",
     "output_type": "stream",
     "text": [
      "<class 'pandas.core.frame.DataFrame'>\n",
      "RangeIndex: 5485 entries, 0 to 5484\n",
      "Data columns (total 4 columns):\n",
      "nada               5485 non-null int64\n",
      "caption            5485 non-null object\n",
      "rating             5485 non-null float64\n",
      "caption_cleaned    5476 non-null object\n",
      "dtypes: float64(1), int64(1), object(2)\n",
      "memory usage: 171.5+ KB\n",
      "None\n"
     ]
    }
   ],
   "source": [
    "treated = pd.read_csv('treated.csv')\n",
    "print(treated.info())\n",
    "treated.drop(['nada'], axis=1, inplace=True)\n",
    "\n",
    "treated['caption_cleaned'] = treated['caption_cleaned'].astype(str)\n",
    "\n",
    "\n",
    "vectorizer = TfidfVectorizer(strip_accents='unicode', analyzer='word', ngram_range=(1,3), norm='l2')\n",
    "\n",
    "train, test = train_test_split(treated, random_state=1, test_size=0.001, shuffle=True)\n"
   ]
  },
  {
   "cell_type": "code",
   "execution_count": 49,
   "metadata": {},
   "outputs": [
    {
     "data": {
      "text/html": [
       "<div>\n",
       "<style scoped>\n",
       "    .dataframe tbody tr th:only-of-type {\n",
       "        vertical-align: middle;\n",
       "    }\n",
       "\n",
       "    .dataframe tbody tr th {\n",
       "        vertical-align: top;\n",
       "    }\n",
       "\n",
       "    .dataframe thead th {\n",
       "        text-align: right;\n",
       "    }\n",
       "</style>\n",
       "<table border=\"1\" class=\"dataframe\">\n",
       "  <thead>\n",
       "    <tr style=\"text-align: right;\">\n",
       "      <th></th>\n",
       "      <th>caption</th>\n",
       "      <th>rating</th>\n",
       "      <th>caption_cleaned</th>\n",
       "    </tr>\n",
       "  </thead>\n",
       "  <tbody>\n",
       "    <tr>\n",
       "      <th>2768</th>\n",
       "      <td>La atención telefónica es un desastre.</td>\n",
       "      <td>1.0</td>\n",
       "      <td>atencion telefon desastr</td>\n",
       "    </tr>\n",
       "    <tr>\n",
       "      <th>1435</th>\n",
       "      <td>La chava de la caja 1 me robó $200, no me di c...</td>\n",
       "      <td>1.0</td>\n",
       "      <td>chav caj 1 rob 200 di cuent moment pris hac cu...</td>\n",
       "    </tr>\n",
       "    <tr>\n",
       "      <th>5079</th>\n",
       "      <td>No existe cajero automático</td>\n",
       "      <td>1.0</td>\n",
       "      <td>exist cajer automat</td>\n",
       "    </tr>\n",
       "    <tr>\n",
       "      <th>1751</th>\n",
       "      <td>(Traducido por Google) Este lugar está cerrado...</td>\n",
       "      <td>1.0</td>\n",
       "      <td>lug cerr actual inclus cajer automat funcion c...</td>\n",
       "    </tr>\n",
       "    <tr>\n",
       "      <th>5302</th>\n",
       "      <td>que dean clase de galateo a la empleada muy mu...</td>\n",
       "      <td>1.0</td>\n",
       "      <td>dean clas galate emple desagrad</td>\n",
       "    </tr>\n",
       "  </tbody>\n",
       "</table>\n",
       "</div>"
      ],
      "text/plain": [
       "                                                caption  rating  \\\n",
       "2768             La atención telefónica es un desastre.     1.0   \n",
       "1435  La chava de la caja 1 me robó $200, no me di c...     1.0   \n",
       "5079                        No existe cajero automático     1.0   \n",
       "1751  (Traducido por Google) Este lugar está cerrado...     1.0   \n",
       "5302  que dean clase de galateo a la empleada muy mu...     1.0   \n",
       "\n",
       "                                        caption_cleaned  \n",
       "2768                           atencion telefon desastr  \n",
       "1435  chav caj 1 rob 200 di cuent moment pris hac cu...  \n",
       "5079                                exist cajer automat  \n",
       "1751  lug cerr actual inclus cajer automat funcion c...  \n",
       "5302                    dean clas galate emple desagrad  "
      ]
     },
     "execution_count": 49,
     "metadata": {},
     "output_type": "execute_result"
    }
   ],
   "source": [
    "train, test = train_test_split(treated, random_state=1, test_size=0.004, shuffle=True)\n",
    "test.head()"
   ]
  },
  {
   "cell_type": "code",
   "execution_count": 54,
   "metadata": {},
   "outputs": [
    {
     "data": {
      "text/plain": [
       "KMeans(algorithm='auto', copy_x=True, init='k-means++', max_iter=100,\n",
       "    n_clusters=3, n_init=1, n_jobs=1, precompute_distances='auto',\n",
       "    random_state=None, tol=0.0001, verbose=0)"
      ]
     },
     "execution_count": 54,
     "metadata": {},
     "output_type": "execute_result"
    }
   ],
   "source": [
    "#model = pickle.load(open(\"save.pkl\", \"rb\"))\n",
    "\n",
    "X = vectorizer.fit_transform(train['caption_cleaned'])\n",
    "\n",
    "true_k = 3\n",
    "model = KMeans(n_clusters=true_k, init='k-means++', max_iter=100, n_init=1)\n",
    "model.fit(X)\n",
    "\n"
   ]
  },
  {
   "cell_type": "code",
   "execution_count": 55,
   "metadata": {},
   "outputs": [
    {
     "name": "stdout",
     "output_type": "stream",
     "text": [
      "Top terms per cluster:\n",
      "Cluster 0:\n",
      " atencion\n",
      " cajer\n",
      " servici\n",
      " banc\n",
      " buen\n",
      " mal\n",
      " pesim\n",
      " client\n",
      " sucursal\n",
      " esper\n",
      "Cluster 1:\n",
      " excelent\n",
      " banc\n",
      " bien\n",
      " excelent atencion\n",
      " excelent servici\n",
      " excelent banc\n",
      " atencion\n",
      " servici\n",
      " rap\n",
      " excelent ubic\n",
      "Cluster 2:\n",
      " buen\n",
      " buen atencion\n",
      " atencion\n",
      " buen servici\n",
      " servici\n",
      " buen banc\n",
      " banc\n",
      " buen atencion rap\n",
      " rap\n",
      " buen atencion client\n"
     ]
    }
   ],
   "source": [
    "\n",
    "print(\"Top terms per cluster:\")\n",
    "order_centroids = model.cluster_centers_.argsort()[:, ::-1]\n",
    "terms = vectorizer.get_feature_names()\n",
    "for i in range(true_k):\n",
    "    print(\"Cluster %d:\" % i),\n",
    "    for ind in order_centroids[i, :10]:\n",
    "        print(' %s' % terms[ind]),\n",
    "    print\n"
   ]
  },
  {
   "cell_type": "code",
   "execution_count": 56,
   "metadata": {},
   "outputs": [
    {
     "name": "stdout",
     "output_type": "stream",
     "text": [
      "\n",
      "\n",
      "Prediction\n",
      "0 La atención telefónica es un desastre.\n",
      "0 La chava de la caja 1 me robó $200, no me di cuenta en el momento porque tenía prisa hasta haciendo mis cuentas después de un rato\n",
      "0 No existe cajero automático\n",
      "0 (Traducido por Google) Este lugar está cerrado actualmente. Incluso los cajeros automáticos no funcionan correctamente. Mi tarjeta de débito se cerró después de intentar retirar dinero de esta ubicación. Mi banco me dijo que se debía a una actividad sospechosa.  (Original) This place is currently closed. Even the ATM's are currently not working properly. My debit card was closed after  attempting to withdraw money from this location. My bank told me it was due to suspicious activity.\n",
      "0 que dean clase de galateo a la empleada muy muy desagradable.\n",
      "0 Lugar muy escondido y pequeño!!!...\n",
      "1 Como todos los bancos\n",
      "2 Buena atención. Rápida atención\n",
      "0 (Traducido por Google) Banco de chatarra, congelar la cuenta sin razón, discriminación racial  (Original) 垃圾银行 无原因冻结账户 种族歧视\n",
      "0 Queria saber si me homTraido la Tarjeta Visada mi. casa que llaes hola gracias\n",
      "0 Profesionales\n",
      "0 Deberían mirar los bajantes, huele mal al entrar.\n",
      "2 Bueno\n",
      "0 Más bordes, maleducados y falta de educación y atención es difícil de encontrar.\n",
      "0 La atención al cliente por parte del personal lamentable.\n",
      "0 Nunca puedes operar en el cajero despues de cerrar el banco porque cierran la puerta, si no quieren que entren vagabundos pongan un cajero a la calle porque asi lo unico que consiguen es no dar servicio al cliente.\n",
      "0 Que pesimo servicio ahora tienen horario para hacer tramites si no quieren hacer las cosas deverian de cambiar de trabajo\n",
      "0 Buena ubicacion en el centro de la Ciudad.\n",
      "0 Estuve esperando para coger cita una semana, me pregunto poca cosa porque estaba hablando con su familiar y al final estuve media hora para nada y salí como entre, sin respuesta\n",
      "0 Son unos sinvergüenzas, la chica de la caja con muy pocas ganas de trabajar.. te hacen salir a hacer gestiones en el cajero sin avisarte que cierran en 10 minutos para luego no tener que atenderte... sin importarle que hayas salido antes del trabajo o lo que sea. Muchas gracias\n",
      "0 Personal incapacitado y no cogen el teléfono. Sucursal nefasta de un banco que tiene toda la pinta de ser nefasto.\n",
      "0 En 20 años de cliente con la entidad jamas me han tratado tan mal como en esta sucursal.  Definitivamente me cambio de entidad.\n"
     ]
    }
   ],
   "source": [
    "print(\"\\n\")\n",
    "print(\"Prediction\")\n",
    "Y = vectorizer.transform(test['caption_cleaned'])\n",
    "prediction = model.predict(Y)\n",
    "\n",
    "i = 0\n",
    "for index,row in test.iterrows():\n",
    "    print(prediction[i], row['caption'])\n",
    "    i += 1\n",
    "\n"
   ]
  },
  {
   "cell_type": "code",
   "execution_count": null,
   "metadata": {},
   "outputs": [],
   "source": []
  }
 ],
 "metadata": {
  "kernelspec": {
   "display_name": "Python 3",
   "language": "python",
   "name": "python3"
  },
  "language_info": {
   "codemirror_mode": {
    "name": "ipython",
    "version": 3
   },
   "file_extension": ".py",
   "mimetype": "text/x-python",
   "name": "python",
   "nbconvert_exporter": "python",
   "pygments_lexer": "ipython3",
   "version": "3.6.9"
  }
 },
 "nbformat": 4,
 "nbformat_minor": 2
}
